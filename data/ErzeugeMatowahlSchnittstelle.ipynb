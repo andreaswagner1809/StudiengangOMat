{
 "cells": [
  {
   "cell_type": "code",
   "execution_count": 4,
   "metadata": {},
   "outputs": [],
   "source": [
    "excel_path = \"D:\\Karlsruhe\\BWsyncShare\\wahlomat_Fragen.xlsx\" #import-datei in der alle Fragen, Antworten und Beschreibungen liegen\n",
    "anzahl_fragen = 14\n",
    "anzahl_studiengaenge = 10"
   ]
  },
  {
   "cell_type": "code",
   "execution_count": 5,
   "metadata": {},
   "outputs": [],
   "source": [
    "import pandas as pd"
   ]
  },
  {
   "cell_type": "code",
   "execution_count": 6,
   "metadata": {},
   "outputs": [],
   "source": [
    "# import der Daten aus dem Excel-Sheet\n",
    "input_fragen = pd.read_excel(excel_path, sheet_name=\"Fragen\", header=[0,1], nrows=anzahl_fragen)\n",
    "input_antworten = input_fragen.drop(axis=1, labels=[\"Nr\", \"Aussage\", \"Kurzfassung\", \"Kommentare\"], level=1)\n",
    "input_antworten = input_antworten.iloc[:, 0:anzahl_studiengaenge]\n",
    "input_studiengaenge = pd.read_excel(\"D:\\Karlsruhe\\BWsyncShare\\wahlomat_Fragen.xlsx\", sheet_name=\"Studiengaenge\", nrows=5, skiprows=8,header=None, keep_default_na=False)\n",
    "input_studiengaenge.rename(columns={0:\"Identifier\"}, inplace=True)\n",
    "\n",
    "studiengangInformation = input_studiengaenge.melt(id_vars=\"Identifier\", )"
   ]
  },
  {
   "cell_type": "code",
   "execution_count": 7,
   "metadata": {},
   "outputs": [],
   "source": [
    "# generiert ein dataFrame, das dem mat-o-wahl interface mit studiengängen und antworten enthält\n",
    "interface_answers = pd.DataFrame()\n",
    "for variable in studiengangInformation.variable.unique():\n",
    "    #print(variable) \n",
    "    fragenFuerStudiengang = input_antworten.iloc[:,variable-1].to_frame()\n",
    "    fragenFuerStudiengang[\"Antworten\"]=\"\"\n",
    "    fragenFuerStudiengang.columns = [\"Identifier\", \"value\"]\n",
    "\n",
    "    interface_answers = pd.concat([ \n",
    "        interface_answers,\n",
    "        studiengangInformation.loc[studiengangInformation.variable == variable,[\"Identifier\",\"value\"]],    \n",
    "        fragenFuerStudiengang],ignore_index=True)   \n",
    "  \n"
   ]
  },
  {
   "cell_type": "code",
   "execution_count": 8,
   "metadata": {},
   "outputs": [],
   "source": [
    "interface_answers.to_csv(\"StudiengaengeUndAntworten.csv\", sep=\";\", index=False, header=False)\n",
    "input_fragen.iloc[:, 1:3].to_csv(\"Fragen.csv\", sep=\";\", index=False, header=False)"
   ]
  }
 ],
 "metadata": {
  "kernelspec": {
   "display_name": "VEnvDataScience",
   "language": "python",
   "name": "python3"
  },
  "language_info": {
   "codemirror_mode": {
    "name": "ipython",
    "version": 3
   },
   "file_extension": ".py",
   "mimetype": "text/x-python",
   "name": "python",
   "nbconvert_exporter": "python",
   "pygments_lexer": "ipython3",
   "version": "3.11.5"
  }
 },
 "nbformat": 4,
 "nbformat_minor": 2
}
